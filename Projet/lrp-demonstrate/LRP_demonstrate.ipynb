{
  "nbformat": 4,
  "nbformat_minor": 0,
  "metadata": {
    "kernelspec": {
      "display_name": "innvestigate",
      "language": "python",
      "name": "innvestigate"
    },
    "language_info": {
      "codemirror_mode": {
        "name": "ipython",
        "version": 3
      },
      "file_extension": ".py",
      "mimetype": "text/x-python",
      "name": "python",
      "nbconvert_exporter": "python",
      "pygments_lexer": "ipython3",
      "version": "3.7.8"
    },
    "colab": {
      "name": "Copie de introduction.ipynb",
      "provenance": []
    }
  },
  "cells": [
    {
      "cell_type": "markdown",
      "metadata": {
        "id": "_v2xFqXiJ5rK"
      },
      "source": [
        "# Analyzing with iNNvestigate"
      ]
    },
    {
      "cell_type": "markdown",
      "metadata": {
        "id": "Z1SaGpHfJ5rM"
      },
      "source": [
        "**iNNvestigate** got created to make analyzing neural network's predictions easy! The library should help the user to focus on research and development by providing implemented analysis methods and facilitating rapid development of new methods. In this notebook we will show you how to use **iNNvestigate** and for a better understanding we recommend to read [iNNvestigate neural networks!](https://jmlr.org/papers/v20/18-540.html) first! How to use **iNNvestigate** you can read in this notebook: [Developing with iNNvestigate](introduction_development.ipynb)\n",
        "\n",
        "-----\n",
        "\n",
        "**The intention behind iNNvestigate is to make it easy to use analysis methods, but it is not to explain the underlying concepts and assumptions. Please, read the according publication(s) when using a certain method and when publishing please cite the according paper(s) (as well as the [iNNvestigate paper](https://jmlr.org/papers/v20/18-540.html)). Thank you!** You can find most related publication in [iNNvestigate neural networks!](https://jmlr.org/papers/v20/18-540.html) and in the README file.\n",
        "\n",
        "### Analysis methods\n",
        "\n",
        "The field of analyizing neural network's predictions is about gaining insights how and why a potentially complex network gave as output a certain value or choose a certain class over others. This is often called interpretability or explanation of neural networks. We just call it analyzing a neural network's prediction to be as neutral as possible and to leave any conclusions to the user.\n",
        "\n",
        "Most methods have in common that they analyze the input features w.r.t. a specific neuron's output. Which insights a method reveals about this output can be grouped into (see [Learning how to explain: PatternNet and PatternAttribution](https://arxiv.org/abs/1705.05598)):\n",
        "\n",
        "* **function:** analyzing the operations the network function uses to extract or compute the output. E.g., how would changing an input feature change the output.\n",
        "* **signal:** analyzing the components of the input that cause the output. E.g., which parts of an input image or which directions of an input are used to determine the output.\n",
        "* **attribution:** attributing the \"importance\" of input features for the output. E.g., how much would changing an input feature change the output.\n",
        "\n",
        "----\n",
        "\n",
        "In this notebook we will introduce methods for each of these categories and along show how to use different features of **iNNvestigate**, namely how to:\n",
        "\n",
        "* analyze a prediction.\n",
        "* train an analyzer.\n",
        "* analyze a prediction w.r.t to a specific output neuron.\n",
        "\n",
        "Let's dive right into it!"
      ]
    },
    {
      "cell_type": "markdown",
      "metadata": {
        "id": "Vd6LIEAKJ5rO"
      },
      "source": [
        "### Run on Colab\n",
        "> Colab uses per default tensorflow 1.15 which was not used for development of `iNNvestigate`  \n",
        "> Switch to colab GPU runtime for performance\n",
        "\n",
        "<table align=\"left\">\n",
        "  <td>\n",
        "    <a target=\"_blank\" href=\"https://colab.research.google.com/github/albermax/innvestigate/blob/master/examples/notebooks/introduction.ipynb\"><img src=\"https://www.tensorflow.org/images/colab_logo_32px.png\" />Run in Google Colab</a>\n",
        "  </td>\n",
        "</table>\n",
        "\n"
      ]
    },
    {
      "cell_type": "code",
      "metadata": {
        "id": "RiFJGZMGJ5rO",
        "colab": {
          "base_uri": "https://localhost:8080/"
        },
        "outputId": "90552e27-8efd-4240-daf9-1cf13633e953"
      },
      "source": [
        "import os\n",
        "try:\n",
        "    # %tensorflow_version only exists in Colab.\n",
        "    %tensorflow_version 1.x\n",
        "    IS_COLAB = True\n",
        "    if not os.path.exists('/content/innvestigate'):\n",
        "        !git clone https://github.com/albermax/innvestigate.git\n",
        "        !pip install /content/innvestigate --no-deps\n",
        "    %cd /content/innvestigate/examples/notebooks\n",
        "except Exception:\n",
        "    IS_COLAB = False"
      ],
      "execution_count": null,
      "outputs": [
        {
          "output_type": "stream",
          "text": [
            "TensorFlow 1.x selected.\n",
            "/content/innvestigate/examples/notebooks\n"
          ],
          "name": "stdout"
        }
      ]
    },
    {
      "cell_type": "markdown",
      "metadata": {
        "id": "OXZG0tHnJ5rP"
      },
      "source": [
        "\n",
        "### Training a network\n",
        "\n",
        "To analyze a network, we need a network! As a base for **iNNvestigate** we chose the Keras deep learning library, because it is easy to use and allows to inspect build models.\n",
        "\n",
        "In this first piece of code we import all the necessary modules:"
      ]
    },
    {
      "cell_type": "code",
      "metadata": {
        "id": "uXkA7FDZJ5rP"
      },
      "source": [
        "import warnings\n",
        "warnings.simplefilter('ignore')"
      ],
      "execution_count": null,
      "outputs": []
    },
    {
      "cell_type": "code",
      "metadata": {
        "id": "DInZo9E7J5rQ"
      },
      "source": [
        "%matplotlib inline  \n",
        "\n",
        "import imp\n",
        "import matplotlib.pyplot as plot\n",
        "import numpy as np\n",
        "import os\n",
        "\n",
        "import keras\n",
        "import keras.backend\n",
        "import keras.layers\n",
        "import keras.models\n",
        "import keras.utils\n",
        "\n",
        "import innvestigate\n",
        "import innvestigate.utils as iutils\n",
        "\n",
        "# Use utility libraries to focus on relevant iNNvestigate routines.\n",
        "mnistutils = imp.load_source(\"utils_mnist\", \"../utils_mnist.py\")\n",
        "eutils = imp.load_source(\"utils\", \"../utils.py\")\n"
      ],
      "execution_count": null,
      "outputs": []
    },
    {
      "cell_type": "code",
      "metadata": {
        "id": "PzVm12rpJ5rR",
        "colab": {
          "base_uri": "https://localhost:8080/",
          "height": 35
        },
        "outputId": "f967465a-0afc-4ff7-afb2-d77d19daf539"
      },
      "source": [
        "innvestigate.__version__"
      ],
      "execution_count": null,
      "outputs": [
        {
          "output_type": "execute_result",
          "data": {
            "application/vnd.google.colaboratory.intrinsic+json": {
              "type": "string"
            },
            "text/plain": [
              "'1.0.9'"
            ]
          },
          "metadata": {
            "tags": []
          },
          "execution_count": 4
        }
      ]
    },
    {
      "cell_type": "markdown",
      "metadata": {
        "id": "wgvwrrsUJ5rS"
      },
      "source": [
        "to load the data:"
      ]
    },
    {
      "cell_type": "code",
      "metadata": {
        "id": "DAOH3n-OJ5rS"
      },
      "source": [
        "# Load data\n",
        "# returns x_train, y_train, x_test, y_test as numpy.ndarray\n",
        "data_not_preprocessed = mnistutils.fetch_data()\n",
        "\n",
        "# Create preprocessing functions\n",
        "input_range = [-1, 1]\n",
        "preprocess, revert_preprocessing = mnistutils.create_preprocessing_f(data_not_preprocessed[0], input_range)\n",
        "\n",
        "# Preprocess data\n",
        "data = (\n",
        "    preprocess(data_not_preprocessed[0]), data_not_preprocessed[1],\n",
        "    preprocess(data_not_preprocessed[2]), data_not_preprocessed[3]\n",
        ")\n",
        "\n",
        "num_classes = len(np.unique(data[1]))\n",
        "label_to_class_name = [str(i) for i in range(num_classes)]"
      ],
      "execution_count": null,
      "outputs": []
    },
    {
      "cell_type": "markdown",
      "metadata": {
        "id": "heidXvEjJ5rT"
      },
      "source": [
        "and to now create and train a CNN model:"
      ]
    },
    {
      "cell_type": "code",
      "metadata": {
        "id": "swR2IXIcJ5rT",
        "colab": {
          "base_uri": "https://localhost:8080/"
        },
        "outputId": "6858413a-5431-4a06-e409-b91d03f0d2a3"
      },
      "source": [
        "# Create & train model\n",
        "if keras.backend.image_data_format == \"channels_first\":\n",
        "    input_shape = (1, 28, 28)\n",
        "else:\n",
        "    input_shape = (28, 28, 1)\n",
        "\n",
        "model = keras.models.Sequential([\n",
        "    keras.layers.Conv2D(32, (3, 3), activation=\"relu\", input_shape=input_shape),\n",
        "    keras.layers.Conv2D(64, (3, 3), activation=\"relu\"),\n",
        "    keras.layers.MaxPooling2D((2, 2)),\n",
        "    keras.layers.Flatten(),\n",
        "    keras.layers.Dense(512, activation=\"relu\"),\n",
        "    keras.layers.Dense(10, activation=\"softmax\"),\n",
        "])\n",
        "\n",
        "scores = mnistutils.train_model(model, data, batch_size=128, epochs=3)\n",
        "print(\"Scores on test set: loss=%s accuracy=%s\" % tuple(scores))"
      ],
      "execution_count": null,
      "outputs": [
        {
          "output_type": "stream",
          "text": [
            "Epoch 1/3\n",
            "60000/60000 [==============================] - 186s 3ms/step - loss: 0.1238 - accuracy: 0.9617\n",
            "Epoch 2/3\n",
            "60000/60000 [==============================] - 190s 3ms/step - loss: 0.0355 - accuracy: 0.9885\n",
            "Epoch 3/3\n",
            "60000/60000 [==============================] - 189s 3ms/step - loss: 0.0193 - accuracy: 0.9937\n",
            "Scores on test set: loss=0.02639943518221844 accuracy=0.9909999966621399\n"
          ],
          "name": "stdout"
        }
      ]
    },
    {
      "cell_type": "markdown",
      "metadata": {
        "id": "IFDNV7PfJ5rU"
      },
      "source": [
        "## Analyzing a predicition"
      ]
    },
    {
      "cell_type": "markdown",
      "metadata": {
        "id": "gFNCLqSxJ5rV"
      },
      "source": [
        "In this first part we show how to create and use an analyzer. To do so we use an analyzer from *function* category, namely the gradient. The gradient shows how the linearized network function reacts on changes of a single feature.\n",
        "\n",
        "This is simply done by passing the model without a softmax to the analyzer class:"
      ]
    },
    {
      "cell_type": "code",
      "metadata": {
        "id": "GRuN7P2UJ5rV"
      },
      "source": [
        "# Scale to [0, 1] range for plotting.\n",
        "def input_postprocessing(X):\n",
        "    return revert_preprocessing(X) / 255\n",
        "\n",
        "# Configure analysis methods and properties\n",
        "methods = [\n",
        "    # NAME                    OPT.PARAMS                POSTPROC FXN               TITLE\n",
        "\n",
        "    # Show input\n",
        "    (\"input\",                 {},                       input_postprocessing,      \"Input\"),\n",
        "    (\"lrp.z\",                 {},                       mnistutils.heatmap,        \"LRP-Z\"),\n",
        "    (\"lrp.epsilon\",           {\"epsilon\": 1},           mnistutils.heatmap,        \"LRP-Epsilon\")\n",
        "]\n",
        "\n",
        "# Create model without trailing softmax\n",
        "model_wo_softmax = iutils.keras.graph.model_wo_softmax(model)\n",
        "\n",
        "# Create analyzers.\n",
        "analyzers = []\n",
        "for method in methods:\n",
        "    analyzer = innvestigate.create_analyzer(method[0],        # analysis method identifier\n",
        "                                            model_wo_softmax, # model without softmax output\n",
        "                                            **method[1])      # optional analysis parameters\n",
        "    # Some analyzers require training.\n",
        "    analyzer.fit(data[0], batch_size=256, verbose=1)\n",
        "    analyzers.append(analyzer)"
      ],
      "execution_count": null,
      "outputs": []
    },
    {
      "cell_type": "markdown",
      "metadata": {
        "id": "bj7Pu69URABU"
      },
      "source": [
        "Now we analyze each image with the different LRP analyzers:"
      ]
    },
    {
      "cell_type": "code",
      "metadata": {
        "id": "4gZM83bEPe_-"
      },
      "source": [
        "%%capture\n",
        "\n",
        "n = 10\n",
        "test_images = list(zip(data[2][:n], data[3][:n]))\n",
        "\n",
        "analysis = np.zeros([len(test_images), len(analyzers), 28, 28, 3])\n",
        "text = []\n",
        "\n",
        "\n",
        "for i, (x, y) in enumerate(test_images):\n",
        "    # Add batch axis.\n",
        "    x = x[None, :, :, :]\n",
        "    \n",
        "    # Predict final activations, probabilites, and label.\n",
        "    presm = model_wo_softmax.predict_on_batch(x)[0]\n",
        "    prob = model.predict_on_batch(x)[0]\n",
        "    y_hat = prob.argmax()\n",
        "    \n",
        "    # Save prediction info:\n",
        "    text.append((\"%s\" % label_to_class_name[y],    # ground truth label\n",
        "                 \"%.2f\" % presm.max(),             # pre-softmax logits\n",
        "                 \"%.2f\" % prob.max(),              # probabilistic softmax output  \n",
        "                 \"%s\" % label_to_class_name[y_hat] # predicted label\n",
        "                ))\n",
        "\n",
        "    for aidx, analyzer in enumerate(analyzers):\n",
        "        # Analyze.\n",
        "        a = analyzer.analyze(x)\n",
        "        \n",
        "        # Apply common postprocessing, e.g., re-ordering the channels for plotting.\n",
        "        a = mnistutils.postprocess(a)\n",
        "        # Apply analysis postprocessing, e.g., creating a heatmap.\n",
        "        a = methods[aidx][2](a)\n",
        "        # Store the analysis.\n",
        "        analysis[i, aidx] = a[0]"
      ],
      "execution_count": null,
      "outputs": []
    },
    {
      "cell_type": "markdown",
      "metadata": {
        "id": "PudxEgiuQ1xM"
      },
      "source": [
        "Next, we visualize the analysis results:\n"
      ]
    },
    {
      "cell_type": "code",
      "metadata": {
        "id": "1xYxaEGxQkCq",
        "colab": {
          "base_uri": "https://localhost:8080/",
          "height": 635
        },
        "outputId": "affc1f46-4fce-48ce-839e-77799d15105a"
      },
      "source": [
        "# Prepare the grid as rectengular list\n",
        "grid = [[analysis[i, j] for j in range(analysis.shape[1])]\n",
        "        for i in range(analysis.shape[0])]\n",
        "# Prepare the labels\n",
        "label, presm, prob, pred = zip(*text)\n",
        "row_labels_left = [('label: {}'.format(label[i]), 'pred: {}'.format(pred[i])) for i in range(len(label))]\n",
        "row_labels_right = [('logit: {}'.format(presm[i]), 'prob: {}'.format(prob[i])) for i in range(len(label))]\n",
        "col_labels = [''.join(method[3]) for method in methods]\n",
        "\n",
        "# Plot the analysis.\n",
        "eutils.plot_image_grid(grid, row_labels_left, row_labels_right, col_labels,\n",
        "                       file_name=os.environ.get(\"PLOTFILENAME\", None))"
      ],
      "execution_count": null,
      "outputs": [
        {
          "output_type": "display_data",
          "data": {
            "text/plain": [
              "<Figure size 432x288 with 0 Axes>"
            ]
          },
          "metadata": {
            "tags": []
          }
        },
        {
          "output_type": "display_data",
          "data": {
            "image/png": "[encoded data removed]",
            "text/plain": [
              "<Figure size 216x792 with 40 Axes>"
            ]
          },
          "metadata": {
            "tags": []
          }
        }
      ]
    },
    {
      "cell_type": "markdown",
      "metadata": {
        "id": "48lQgH81Sx-M"
      },
      "source": [
        "Each column shows the visualized results for different analyzers and each row shows the analyses w.r.t. to one input sample. To the left of each row, the ground truth label label and the predicted label pred are show. To the right, the model's probabilistic (softmax) output is shown as prob and the logit output just before the terminating softmax layer as logit. Note that all analyses have been performed based on the logit output (layer).\n",
        "\n",
        "This figure shows the analysis w.r.t. to most activated neuron, e.g., actually predicted class. To see how to analyze the prediction w.r.t. to other neurons/classes have a look here: Analyzing different classes with MNIST\n",
        "\n"
      ]
    }
  ]
}